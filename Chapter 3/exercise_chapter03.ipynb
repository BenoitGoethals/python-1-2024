{
 "cells": [
  {
   "metadata": {
    "ExecuteTime": {
     "end_time": "2024-10-07T19:05:55.102987Z",
     "start_time": "2024-10-07T19:05:55.094567Z"
    }
   },
   "cell_type": "code",
   "source": [
    "def my_function():\n",
    "    print(\"Hello from a function\")\n"
   ],
   "id": "8816417da8a6ffde",
   "outputs": [],
   "execution_count": 1
  },
  {
   "metadata": {},
   "cell_type": "raw",
   "source": "TEST TEST TEST ",
   "id": "2d0b4c71998b2ebb"
  }
 ],
 "metadata": {
  "kernelspec": {
   "display_name": "Python 3",
   "language": "python",
   "name": "python3"
  },
  "language_info": {
   "codemirror_mode": {
    "name": "ipython",
    "version": 2
   },
   "file_extension": ".py",
   "mimetype": "text/x-python",
   "name": "python",
   "nbconvert_exporter": "python",
   "pygments_lexer": "ipython2",
   "version": "2.7.6"
  }
 },
 "nbformat": 4,
 "nbformat_minor": 5
}
