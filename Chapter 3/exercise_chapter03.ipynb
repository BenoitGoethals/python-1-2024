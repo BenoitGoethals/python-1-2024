{
 "cells": [
  {
   "metadata": {},
   "cell_type": "code",
   "outputs": [],
   "execution_count": null,
   "source": [
    "def my_function():\n",
    "    print(\"Hello from a function\")\n"
   ],
   "id": "8816417da8a6ffde"
  },
  {
   "metadata": {},
   "cell_type": "raw",
   "source": "TEST TEST TEST ",
   "id": "2d0b4c71998b2ebb"
  }
 ],
 "metadata": {
  "kernelspec": {
   "display_name": "Python 3",
   "language": "python",
   "name": "python3"
  },
  "language_info": {
   "codemirror_mode": {
    "name": "ipython",
    "version": 2
   },
   "file_extension": ".py",
   "mimetype": "text/x-python",
   "name": "python",
   "nbconvert_exporter": "python",
   "pygments_lexer": "ipython2",
   "version": "2.7.6"
  }
 },
 "nbformat": 4,
 "nbformat_minor": 5
}
