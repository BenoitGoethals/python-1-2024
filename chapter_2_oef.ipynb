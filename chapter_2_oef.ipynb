{
 "cells": [
  {
   "cell_type": "code",
   "execution_count": null,
   "id": "9d72c9f6ccc579bc",
   "metadata": {},
   "outputs": [],
   "source": [
    "%xmode Verbose\n",
    "import math"
   ]
  },
  {
   "metadata": {},
   "cell_type": "code",
   "outputs": [],
   "execution_count": null,
   "source": [
    "radius = 5\n",
    "sphere_volume = 4 / 3 * m"
   ],
   "id": "da2a900e43222f23"
  },
  {
   "metadata": {},
   "cell_type": "code",
   "outputs": [],
   "execution_count": null,
   "source": [
    "x = 42\n",
    "print(math.cos(x) ** 2 + math.sin(x) ** 2 == 1)"
   ],
   "id": "2c7b958d98025b1c"
  },
  {
   "metadata": {
    "collapsed": true
   },
   "cell_type": "code",
   "outputs": [],
   "execution_count": null,
   "source": [
    "print(math.e ** 2)\n",
    "print(math.pow(math.e, 2))\n",
    "print(math.exp(2))"
   ],
   "id": "initial_id"
  }
 ],
 "metadata": {
  "kernelspec": {
   "display_name": "Python 3",
   "language": "python",
   "name": "python3"
  },
  "language_info": {
   "codemirror_mode": {
    "name": "ipython",
    "version": 2
   },
   "file_extension": ".py",
   "mimetype": "text/x-python",
   "name": "python",
   "nbconvert_exporter": "python",
   "pygments_lexer": "ipython2",
   "version": "2.7.6"
  }
 },
 "nbformat": 4,
 "nbformat_minor": 5
}
