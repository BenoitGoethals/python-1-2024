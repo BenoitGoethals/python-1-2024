{
 "cells": [
  {
   "metadata": {},
   "cell_type": "markdown",
   "source": [
    "Part 1. The volume of a sphere with radius  r  is  43πr3 . What is the volume of a sphere with radius 5? Start with a variable named radius and then assign the result to a variable named volume. Display the result. Add comments to indicate that radius is in centimeters and volume in cubic centimeters.\n",
    "\n"
   ],
   "id": "60b7982f01d0643f"
  },
  {
   "metadata": {},
   "cell_type": "code",
   "outputs": [],
   "execution_count": null,
   "source": [
    "import math\n",
    "radius_cm = 5\n",
    "result  = ((4/3) * math.pi) * math.pow(radius_cm, 3)\n",
    "print(f\"Result: {result}\")"
   ],
   "id": "6bc04fb3979ea61c"
  },
  {
   "metadata": {},
   "cell_type": "markdown",
   "source": [
    "**Part 2.** A rule of trigonometry says that for any value of $x$, $(\\cos x)^2 + (\\sin x)^2 = 1$. Let's see if it's true for a specific value of $x$ like 42.\n",
    "\n",
    "Create a variable named `x` with this value.\n",
    "Then use `math.cos` and `math.sin` to compute the sine and cosine of $x$, and the sum of their squared.\n",
    "\n",
    "The result should be close to 1. It might not be exactly 1 because floating-point arithmetic is not exact---it is only approximately correct."
   ],
   "id": "c9b8ce7ad0c72929"
  },
  {
   "metadata": {
    "ExecuteTime": {
     "end_time": "2024-09-24T19:02:17.705731Z",
     "start_time": "2024-09-24T19:02:17.691845Z"
    }
   },
   "cell_type": "code",
   "source": [
    "import math\n",
    "x = 5\n",
    "result = math.pow(math.cos(x),2) + math.pow(math.sin(x),2) == 1\n",
    "print(f\"Result: {result}\")"
   ],
   "id": "db538997e4a429ac",
   "outputs": [
    {
     "name": "stdout",
     "output_type": "stream",
     "text": [
      "False\n"
     ]
    }
   ],
   "execution_count": 2
  },
  {
   "metadata": {},
   "cell_type": "markdown",
   "source": "",
   "id": "6d9f4815c291306b"
  },
  {
   "metadata": {},
   "cell_type": "markdown",
   "source": [
    "**Part 3.** In addition to `pi`, the other variable defined in the `math` module is `e`, which represents the base of the natural logarithm, written in math notation as $e$. If you are not familiar with this value, ask a virtual assistant \"What is `math.e`?\" Now let's compute $e^2$ three ways:\n",
    "\n",
    "* Use `math.e` and the exponentiation operator (`**`).\n",
    "\n",
    "* Use `math.pow` to raise `math.e` to the power `2`.\n",
    "\n",
    "* Use `math.exp`, which takes as an argument a value, $x$, and computes $e^x$.\n",
    "\n",
    "You might notice that the last result is slightly different from the other two.\n",
    "See if you can find out which is correct."
   ],
   "id": "d999d48712d85579"
  },
  {
   "metadata": {},
   "cell_type": "markdown",
   "source": [
    "In Python, math.e is a constant from the math module that represents the mathematical constant e, which is approximately equal to 2.71828. This constant is the base of the natural logarithm and is widely used in mathematical calculations involving exponential growth, logarithms, and calculus.\n",
    "\n"
   ],
   "id": "f834eade11eb6486"
  },
  {
   "metadata": {
    "ExecuteTime": {
     "end_time": "2024-09-24T19:40:34.244247Z",
     "start_time": "2024-09-24T19:40:13.693969Z"
    }
   },
   "cell_type": "code",
   "source": [
    "import math\n",
    "ex_op = math.e ** 2\n",
    "ex_pow = math.pow(math.e, 2)\n",
    "ex_exp = math.exp(math.e)\n",
    "\n",
    "print(f\"Result: {ex_op == ex_exp and ex_pow == ex_exp}\")"
   ],
   "id": "d9b7b59aed6a67ce",
   "outputs": [
    {
     "name": "stdout",
     "output_type": "stream",
     "text": [
      "Result: False\n"
     ]
    }
   ],
   "execution_count": 2
  }
 ],
 "metadata": {
  "kernelspec": {
   "display_name": "Python 3",
   "language": "python",
   "name": "python3"
  },
  "language_info": {
   "codemirror_mode": {
    "name": "ipython",
    "version": 2
   },
   "file_extension": ".py",
   "mimetype": "text/x-python",
   "name": "python",
   "nbconvert_exporter": "python",
   "pygments_lexer": "ipython2",
   "version": "2.7.6"
  }
 },
 "nbformat": 4,
 "nbformat_minor": 5
}
