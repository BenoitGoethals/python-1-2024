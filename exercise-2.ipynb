{
 "cells": [
  {
   "metadata": {},
   "cell_type": "markdown",
   "source": [
    "Part 1. The volume of a sphere with radius  r  is  43πr3 . What is the volume of a sphere with radius 5? Start with a variable named radius and then assign the result to a variable named volume. Display the result. Add comments to indicate that radius is in centimeters and volume in cubic centimeters.\n",
    "\n"
   ],
   "id": "60b7982f01d0643f"
  },
  {
   "metadata": {
    "ExecuteTime": {
     "end_time": "2024-09-26T17:43:17.503242Z",
     "start_time": "2024-09-26T17:43:17.497417Z"
    }
   },
   "cell_type": "code",
   "source": [
    "import math\n",
    "radius_cm = 5\n",
    "result  = ((4/3) * math.pi) * math.pow(radius_cm, 3)\n",
    "print(f\"Result: {result}\")"
   ],
   "id": "6bc04fb3979ea61c",
   "outputs": [
    {
     "name": "stdout",
     "output_type": "stream",
     "text": [
      "Result: 523.5987755982989\n"
     ]
    }
   ],
   "execution_count": 1
  },
  {
   "metadata": {},
   "cell_type": "markdown",
   "source": [
    "**Part 2.** A rule of trigonometry says that for any value of $x$, $(\\cos x)^2 + (\\sin x)^2 = 1$. Let's see if it's true for a specific value of $x$ like 42.\n",
    "\n",
    "Create a variable named `x` with this value.\n",
    "Then use `math.cos` and `math.sin` to compute the sine and cosine of $x$, and the sum of their squared.\n",
    "\n",
    "The result should be close to 1. It might not be exactly 1 because floating-point arithmetic is not exact---it is only approximately correct."
   ],
   "id": "c9b8ce7ad0c72929"
  },
  {
   "metadata": {
    "ExecuteTime": {
     "end_time": "2024-09-26T18:00:26.198347Z",
     "start_time": "2024-09-26T18:00:26.184386Z"
    }
   },
   "cell_type": "code",
   "source": [
    "import math\n",
    "x = 5\n",
    "deviation = abs(result - 1)\n",
    "result = math.pow(math.cos(x),2) + math.pow(math.sin(x),2) > 10 ** -5\n",
    "print(f\"Result: {result}\")"
   ],
   "id": "db538997e4a429ac",
   "outputs": [
    {
     "name": "stdout",
     "output_type": "stream",
     "text": [
      "Result: True\n"
     ]
    }
   ],
   "execution_count": 6
  },
  {
   "metadata": {},
   "cell_type": "markdown",
   "source": "",
   "id": "6d9f4815c291306b"
  },
  {
   "metadata": {},
   "cell_type": "markdown",
   "source": [
    "**Part 3.** In addition to `pi`, the other variable defined in the `math` module is `e`, which represents the base of the natural logarithm, written in math notation as $e$. If you are not familiar with this value, ask a virtual assistant \"What is `math.e`?\" Now let's compute $e^2$ three ways:\n",
    "\n",
    "* Use `math.e` and the exponentiation operator (`**`).\n",
    "\n",
    "* Use `math.pow` to raise `math.e` to the power `2`.\n",
    "\n",
    "* Use `math.exp`, which takes as an argument a value, $x$, and computes $e^x$.\n",
    "\n",
    "You might notice that the last result is slightly different from the other two.\n",
    "See if you can find out which is correct."
   ],
   "id": "d999d48712d85579"
  },
  {
   "metadata": {},
   "cell_type": "markdown",
   "source": [
    "In Python, math.e is a constant from the math module that represents the mathematical constant e, which is approximately equal to 2.71828. This constant is the base of the natural logarithm and is widely used in mathematical calculations involving exponential growth, logarithms, and calculus.\n",
    "\n"
   ],
   "id": "f834eade11eb6486"
  },
  {
   "metadata": {
    "ExecuteTime": {
     "end_time": "2024-09-26T18:12:56.673854Z",
     "start_time": "2024-09-26T18:12:56.664628Z"
    }
   },
   "cell_type": "code",
   "source": [
    "import math\n",
    "ex_op = math.e ** 2\n",
    "ex_pow = math.pow(math.e, 2)\n",
    "ex_exp = math.exp(2)\n",
    "\n",
    "print(f\"Result: {ex_op == ex_exp  == ex_exp}\")\n",
    "print(f\"Result: {ex_op}  {ex_pow}  {ex_exp}\")"
   ],
   "id": "d9b7b59aed6a67ce",
   "outputs": [
    {
     "name": "stdout",
     "output_type": "stream",
     "text": [
      "Result: False\n",
      "Result: 7.3890560989306495  7.3890560989306495  7.38905609893065\n"
     ]
    }
   ],
   "execution_count": 8
  },
  {
   "metadata": {},
   "cell_type": "markdown",
   "source": [
    "2. Suppose the cover price of a book is $24,95, but bookstore get a 40% discount. Schipping costs $3 for the first cfopy and 75 cents for each add copy. What is the total wholesale cost for 60 copies\n",
    "\n",
    "\n",
    "\n",
    "3. If I leave my house at 6:52 am and run 1 mile at an easy pace (8:15 per mile), then 3 miles at tempo 7: 12 per mile and 1 mile at easy pace again, what time do i Get home for breakfast\n",
    "\n",
    "\n",
    "\n"
   ],
   "id": "67ae514e99ced43c"
  },
  {
   "metadata": {
    "ExecuteTime": {
     "end_time": "2024-09-26T19:38:27.435672Z",
     "start_time": "2024-09-26T19:38:27.429850Z"
    }
   },
   "cell_type": "code",
   "source": [
    "count_books = 60\n",
    "price_book= 24.95\n",
    "discount_rate = 40\n",
    "shipping_first_book_cost = 3\n",
    "shipping_other_book_cost = 0.75\n",
    "total_discount = ((count_books * price_book) /100) * 40\n",
    "\n",
    "total = shipping_first_book_cost + ((count_books-1) * shipping_other_book_cost) + ((count_books * price_book)  - total_discount)\n",
    "\n",
    "print(f\"Total: {round(total, 2)}\")\n",
    "\n",
    "945,45"
   ],
   "id": "983cf561372bc8c4",
   "outputs": [
    {
     "name": "stdout",
     "output_type": "stream",
     "text": [
      "Total: 945.45\n"
     ]
    },
    {
     "data": {
      "text/plain": [
       "(945, 45)"
      ]
     },
     "execution_count": 36,
     "metadata": {},
     "output_type": "execute_result"
    }
   ],
   "execution_count": 36
  },
  {
   "metadata": {
    "ExecuteTime": {
     "end_time": "2024-09-26T19:36:00.252038Z",
     "start_time": "2024-09-26T19:36:00.233460Z"
    }
   },
   "cell_type": "code",
   "source": [
    "# Starting time in hours and minutes\n",
    "start_hour = 6\n",
    "start_minute = 52\n",
    "\n",
    "easy_pace_per_mile = 8 * 60 + 15  # seconds\n",
    "tempo_pace_per_mile = 7 * 60 + 12  # seconds\n",
    "tempo_pace_time_miles = 3 * tempo_pace_per_mile  \n",
    "easy_pace_time_miles = 2 * easy_pace_per_mile \n",
    "total_time_seconds = easy_pace_time_miles + tempo_pace_time_miles\n",
    "start_time_seconds = (start_hour * 60 + start_minute) * 60\n",
    "finish_time_seconds = start_time_seconds + total_time_seconds\n",
    "\n",
    "finish_hour = (finish_time_seconds // 3600) % 24 \n",
    "finish_minute = (finish_time_seconds % 3600) // 60 \n",
    "finish_seconds = finish_hour * 3600 + finish_minute * 60\n",
    "\n",
    "print(f\" {finish_hour}:{finish_minute} {finish_seconds}\")\n"
   ],
   "id": "9d451a9786ea9ca9",
   "outputs": [
    {
     "name": "stdout",
     "output_type": "stream",
     "text": [
      " 7:30 27000\n"
     ]
    }
   ],
   "execution_count": 35
  }
 ],
 "metadata": {
  "kernelspec": {
   "display_name": "Python 3",
   "language": "python",
   "name": "python3"
  },
  "language_info": {
   "codemirror_mode": {
    "name": "ipython",
    "version": 2
   },
   "file_extension": ".py",
   "mimetype": "text/x-python",
   "name": "python",
   "nbconvert_exporter": "python",
   "pygments_lexer": "ipython2",
   "version": "2.7.6"
  }
 },
 "nbformat": 4,
 "nbformat_minor": 5
}
