{
 "cells": [
  {
   "cell_type": "code",
   "id": "initial_id",
   "metadata": {
    "collapsed": true,
    "ExecuteTime": {
     "end_time": "2024-09-24T19:37:49.050263Z",
     "start_time": "2024-09-24T19:37:49.038866Z"
    }
   },
   "source": "print('test')",
   "outputs": [
    {
     "name": "stdout",
     "output_type": "stream",
     "text": [
      "test\n"
     ]
    }
   ],
   "execution_count": 1
  },
  {
   "metadata": {},
   "cell_type": "code",
   "outputs": [],
   "execution_count": null,
   "source": "",
   "id": "c72f29988fd646a"
  },
  {
   "metadata": {
    "ExecuteTime": {
     "end_time": "2024-09-25T18:29:49.176097Z",
     "start_time": "2024-09-25T18:29:49.158182Z"
    }
   },
   "cell_type": "code",
   "source": "int('101', 2)",
   "id": "e1f504cee138ac85",
   "outputs": [
    {
     "data": {
      "text/plain": [
       "5"
      ]
     },
     "execution_count": 1,
     "metadata": {},
     "output_type": "execute_result"
    }
   ],
   "execution_count": 1
  },
  {
   "metadata": {
    "ExecuteTime": {
     "end_time": "2024-09-25T18:39:09.397684Z",
     "start_time": "2024-09-25T18:39:09.383284Z"
    }
   },
   "cell_type": "code",
   "source": "int('101', 10)",
   "id": "f4209c9a763d47c0",
   "outputs": [
    {
     "data": {
      "text/plain": [
       "101"
      ]
     },
     "execution_count": 1,
     "metadata": {},
     "output_type": "execute_result"
    }
   ],
   "execution_count": 1
  },
  {
   "metadata": {
    "ExecuteTime": {
     "end_time": "2024-09-25T18:41:14.882654Z",
     "start_time": "2024-09-25T18:41:14.872581Z"
    }
   },
   "cell_type": "code",
   "source": [
    "import math\n",
    "\n",
    "round(math.pi, 3)"
   ],
   "id": "b7c39055d7ffa38f",
   "outputs": [
    {
     "data": {
      "text/plain": [
       "3.142"
      ]
     },
     "execution_count": 2,
     "metadata": {},
     "output_type": "execute_result"
    }
   ],
   "execution_count": 2
  },
  {
   "metadata": {
    "ExecuteTime": {
     "end_time": "2024-09-25T18:50:27.692988Z",
     "start_time": "2024-09-25T18:50:27.684943Z"
    }
   },
   "cell_type": "code",
   "source": [
    "x = y = 1\n",
    "print(x, y)"
   ],
   "id": "bd26fdec9d282a9d",
   "outputs": [
    {
     "name": "stdout",
     "output_type": "stream",
     "text": [
      "1 1\n"
     ]
    }
   ],
   "execution_count": 3
  },
  {
   "metadata": {
    "ExecuteTime": {
     "end_time": "2024-09-25T18:51:27.540416Z",
     "start_time": "2024-09-25T18:51:27.528193Z"
    }
   },
   "cell_type": "code",
   "source": "print('test123');",
   "id": "b85a13309f4cd0c9",
   "outputs": [
    {
     "name": "stdout",
     "output_type": "stream",
     "text": [
      "test123\n"
     ]
    }
   ],
   "execution_count": 4
  },
  {
   "metadata": {
    "ExecuteTime": {
     "end_time": "2024-09-25T18:59:07.883382Z",
     "start_time": "2024-09-25T18:59:07.875295Z"
    }
   },
   "cell_type": "code",
   "source": [
    "x = 42\n",
    "print(math.cos(x) ** 2 + math.sin(x) ** 2 == 1)\n",
    "\n"
   ],
   "id": "a5036f428cfb78fa",
   "outputs": [
    {
     "name": "stdout",
     "output_type": "stream",
     "text": [
      "True\n"
     ]
    }
   ],
   "execution_count": 5
  },
  {
   "metadata": {},
   "cell_type": "code",
   "outputs": [],
   "execution_count": null,
   "source": "math.e.exp(2)",
   "id": "3495cb6131a959a5"
  }
 ],
 "metadata": {
  "kernelspec": {
   "display_name": "Python 3",
   "language": "python",
   "name": "python3"
  },
  "language_info": {
   "codemirror_mode": {
    "name": "ipython",
    "version": 2
   },
   "file_extension": ".py",
   "mimetype": "text/x-python",
   "name": "python",
   "nbconvert_exporter": "python",
   "pygments_lexer": "ipython2",
   "version": "2.7.6"
  }
 },
 "nbformat": 4,
 "nbformat_minor": 5
}
